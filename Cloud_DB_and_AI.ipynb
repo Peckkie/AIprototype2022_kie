{
  "nbformat": 4,
  "nbformat_minor": 0,
  "metadata": {
    "colab": {
      "name": "Cloud DB and AI.ipynb",
      "provenance": [],
      "collapsed_sections": [],
      "authorship_tag": "ABX9TyOcEMCCPyR5qesmR9BElPLh",
      "include_colab_link": true
    },
    "kernelspec": {
      "name": "python3",
      "display_name": "Python 3"
    },
    "language_info": {
      "name": "python"
    }
  },
  "cells": [
    {
      "cell_type": "markdown",
      "metadata": {
        "id": "view-in-github",
        "colab_type": "text"
      },
      "source": [
        "<a href=\"https://colab.research.google.com/github/Peckkie/AIprototype2022_kie/blob/main/Cloud_DB_and_AI.ipynb\" target=\"_parent\"><img src=\"https://colab.research.google.com/assets/colab-badge.svg\" alt=\"Open In Colab\"/></a>"
      ]
    },
    {
      "cell_type": "code",
      "execution_count": 1,
      "metadata": {
        "colab": {
          "base_uri": "https://localhost:8080/"
        },
        "id": "CAgreIDOE0Zm",
        "outputId": "f0b4b86e-de08-41bf-95b8-ee6e4bd79c37"
      },
      "outputs": [
        {
          "output_type": "stream",
          "name": "stdout",
          "text": [
            "Collecting azure-data-tables\n",
            "  Downloading azure_data_tables-12.2.0-py2.py3-none-any.whl (108 kB)\n",
            "\u001b[?25l\r\u001b[K     |███                             | 10 kB 16.4 MB/s eta 0:00:01\r\u001b[K     |██████                          | 20 kB 20.5 MB/s eta 0:00:01\r\u001b[K     |█████████                       | 30 kB 25.6 MB/s eta 0:00:01\r\u001b[K     |████████████▏                   | 40 kB 28.7 MB/s eta 0:00:01\r\u001b[K     |███████████████▏                | 51 kB 31.6 MB/s eta 0:00:01\r\u001b[K     |██████████████████▏             | 61 kB 25.7 MB/s eta 0:00:01\r\u001b[K     |█████████████████████▏          | 71 kB 21.6 MB/s eta 0:00:01\r\u001b[K     |████████████████████████▎       | 81 kB 22.8 MB/s eta 0:00:01\r\u001b[K     |███████████████████████████▎    | 92 kB 23.1 MB/s eta 0:00:01\r\u001b[K     |██████████████████████████████▎ | 102 kB 24.0 MB/s eta 0:00:01\r\u001b[K     |████████████████████████████████| 108 kB 24.0 MB/s \n",
            "\u001b[?25hCollecting msrest>=0.6.21\n",
            "  Downloading msrest-0.6.21-py2.py3-none-any.whl (85 kB)\n",
            "\u001b[K     |████████████████████████████████| 85 kB 3.2 MB/s \n",
            "\u001b[?25hCollecting azure-core<2.0.0,>=1.14.0\n",
            "  Downloading azure_core-1.22.0-py3-none-any.whl (178 kB)\n",
            "\u001b[K     |████████████████████████████████| 178 kB 46.8 MB/s \n",
            "\u001b[?25hRequirement already satisfied: requests>=2.18.4 in /usr/local/lib/python3.7/dist-packages (from azure-core<2.0.0,>=1.14.0->azure-data-tables) (2.23.0)\n",
            "Requirement already satisfied: six>=1.11.0 in /usr/local/lib/python3.7/dist-packages (from azure-core<2.0.0,>=1.14.0->azure-data-tables) (1.15.0)\n",
            "Requirement already satisfied: certifi>=2017.4.17 in /usr/local/lib/python3.7/dist-packages (from msrest>=0.6.21->azure-data-tables) (2021.10.8)\n",
            "Requirement already satisfied: requests-oauthlib>=0.5.0 in /usr/local/lib/python3.7/dist-packages (from msrest>=0.6.21->azure-data-tables) (1.3.1)\n",
            "Collecting isodate>=0.6.0\n",
            "  Downloading isodate-0.6.1-py2.py3-none-any.whl (41 kB)\n",
            "\u001b[K     |████████████████████████████████| 41 kB 450 kB/s \n",
            "\u001b[?25hRequirement already satisfied: urllib3!=1.25.0,!=1.25.1,<1.26,>=1.21.1 in /usr/local/lib/python3.7/dist-packages (from requests>=2.18.4->azure-core<2.0.0,>=1.14.0->azure-data-tables) (1.24.3)\n",
            "Requirement already satisfied: chardet<4,>=3.0.2 in /usr/local/lib/python3.7/dist-packages (from requests>=2.18.4->azure-core<2.0.0,>=1.14.0->azure-data-tables) (3.0.4)\n",
            "Requirement already satisfied: idna<3,>=2.5 in /usr/local/lib/python3.7/dist-packages (from requests>=2.18.4->azure-core<2.0.0,>=1.14.0->azure-data-tables) (2.10)\n",
            "Requirement already satisfied: oauthlib>=3.0.0 in /usr/local/lib/python3.7/dist-packages (from requests-oauthlib>=0.5.0->msrest>=0.6.21->azure-data-tables) (3.2.0)\n",
            "Installing collected packages: isodate, msrest, azure-core, azure-data-tables\n",
            "Successfully installed azure-core-1.22.0 azure-data-tables-12.2.0 isodate-0.6.1 msrest-0.6.21\n"
          ]
        }
      ],
      "source": [
        "!pip install azure-data-tables"
      ]
    },
    {
      "cell_type": "markdown",
      "source": [
        "# Azure Table (Clound DB)\n",
        "\n",
        "1. create DB on Azure Portal\n",
        "2. insert data\n",
        "3. query data\n",
        "\n",
        "https://docs.microsoft.com/en-us/azure/cosmos-db/table/how-to-use-python"
      ],
      "metadata": {
        "id": "_w_YodZnKNJz"
      }
    },
    {
      "cell_type": "code",
      "source": [
        "from azure.data.tables import TableServiceClient\n",
        "from azure.data.tables import TableEntity"
      ],
      "metadata": {
        "id": "-s7Cik0WKFto"
      },
      "execution_count": 2,
      "outputs": []
    },
    {
      "cell_type": "code",
      "source": [
        "#Creating the Table service client from a connection string\n",
        "table_service = TableServiceClient.from_connection_string(conn_str='DefaultEndpointsProtocol=https;AccountName=aiprototype2;AccountKey=4HKFeDJSOD0nT13cdDT4BYyblr4QY/YpJIIMtDj5wUFae7xIRzDtH2ISuPwzW+UIBDO3FsvWeYxPel5KgN+exg==;EndpointSuffix=core.windows.net')"
      ],
      "metadata": {
        "id": "i-ius5yZMgMv"
      },
      "execution_count": 4,
      "outputs": []
    },
    {
      "cell_type": "markdown",
      "source": [
        "## insert data"
      ],
      "metadata": {
        "id": "jUXi4VdELc3L"
      }
    },
    {
      "cell_type": "code",
      "source": [
        "table_client = table_service.get_table_client(table_name=\"testDB\")"
      ],
      "metadata": {
        "id": "74UagJx9NSGd"
      },
      "execution_count": 5,
      "outputs": []
    },
    {
      "cell_type": "code",
      "source": [
        "#create entity\n",
        "\n",
        "task = TableEntity()\n",
        "task[u'PartitionKey'] = u'tasksSeattle' #PartitionKey:  secondary key  ข้อมูลเเต่ละ Partition จะแยกกันเก็บ และ แยกกันค้นหา จะง่ายขึ้นในการ\n",
        "task[u'RowKey'] = u'002'  #RowKey:  ห้ามซ้ำ primary key\n",
        "task[u'name'] = u'stat'\n",
        "task[u'age'] = 30\n",
        "table_client.create_entity(task)"
      ],
      "metadata": {
        "colab": {
          "base_uri": "https://localhost:8080/"
        },
        "id": "1e_zcJbFLaUN",
        "outputId": "7116ed4f-43f5-4fed-9a3f-a0bb9557be1a"
      },
      "execution_count": 6,
      "outputs": [
        {
          "output_type": "execute_result",
          "data": {
            "text/plain": [
              "{'date': datetime.datetime(2022, 2, 8, 2, 46, 17, tzinfo=datetime.timezone.utc),\n",
              " 'etag': 'W/\"datetime\\'2022-02-08T02%3A46%3A18.0652653Z\\'\"',\n",
              " 'version': '2019-02-02'}"
            ]
          },
          "metadata": {},
          "execution_count": 6
        }
      ]
    },
    {
      "cell_type": "code",
      "source": [
        "#create Dictionary\n",
        "\n",
        "task = {u'PartitionKey': u'tasksSeattle', u'RowKey': u'001',\n",
        "        u'name': u'python', u'room': u'Online', u'age': 3}\n",
        "table_client.create_entity(entity=task)"
      ],
      "metadata": {
        "colab": {
          "base_uri": "https://localhost:8080/"
        },
        "id": "uz3ZdEdhOX8x",
        "outputId": "6b608297-45e6-4110-c170-609da256eeea"
      },
      "execution_count": 9,
      "outputs": [
        {
          "output_type": "execute_result",
          "data": {
            "text/plain": [
              "{'date': datetime.datetime(2022, 2, 8, 2, 50, 53, tzinfo=datetime.timezone.utc),\n",
              " 'etag': 'W/\"datetime\\'2022-02-08T02%3A50%3A53.8592757Z\\'\"',\n",
              " 'version': '2019-02-02'}"
            ]
          },
          "metadata": {},
          "execution_count": 9
        }
      ]
    },
    {
      "cell_type": "code",
      "source": [
        "# Replace the entity created earlier\n",
        "task = {u'PartitionKey': u'part2', u'RowKey': u'001',\n",
        "        u'name': u'python', u'room': u'Online', u'age': 3}\n",
        "table_client.upsert_entity(task)"
      ],
      "metadata": {
        "colab": {
          "base_uri": "https://localhost:8080/"
        },
        "id": "emWSver8TnEL",
        "outputId": "44db921e-7193-4e9f-b2d1-03da6ba1b4bd"
      },
      "execution_count": 10,
      "outputs": [
        {
          "output_type": "execute_result",
          "data": {
            "text/plain": [
              "{'date': datetime.datetime(2022, 2, 8, 3, 9, 37, tzinfo=datetime.timezone.utc),\n",
              " 'etag': 'W/\"datetime\\'2022-02-08T03%3A09%3A38.4124049Z\\'\"',\n",
              " 'version': '2019-02-02'}"
            ]
          },
          "metadata": {},
          "execution_count": 10
        }
      ]
    },
    {
      "cell_type": "code",
      "source": [
        "task = {u'PartitionKey': u'part3', u'RowKey': u'002',\n",
        "        u'name': u'C++', u'room': u'Onsite', u'age': 5}\n",
        "table_client.create_entity(entity=task)"
      ],
      "metadata": {
        "colab": {
          "base_uri": "https://localhost:8080/"
        },
        "id": "MnWz3AHAUemy",
        "outputId": "9eb73d29-e382-4110-83be-fe21932ea792"
      },
      "execution_count": 14,
      "outputs": [
        {
          "output_type": "execute_result",
          "data": {
            "text/plain": [
              "{'date': datetime.datetime(2022, 2, 8, 3, 13, 33, tzinfo=datetime.timezone.utc),\n",
              " 'etag': 'W/\"datetime\\'2022-02-08T03%3A13%3A33.2934644Z\\'\"',\n",
              " 'version': '2019-02-02'}"
            ]
          },
          "metadata": {},
          "execution_count": 14
        }
      ]
    },
    {
      "cell_type": "code",
      "source": [
        "for i in range(10):\n",
        "    task = {u'PartitionKey': u'partQ', u'RowKey': f'00{i+10}',\n",
        "        u'name': u'python', u'room': u'Online', u'age': i}\n",
        "    table_client.create_entity(entity=task)"
      ],
      "metadata": {
        "id": "zx85zqB4U5Ht"
      },
      "execution_count": 15,
      "outputs": []
    },
    {
      "cell_type": "markdown",
      "source": [
        "## query data"
      ],
      "metadata": {
        "id": "OCxKVQ4oSo1w"
      }
    },
    {
      "cell_type": "code",
      "source": [
        "# Query for an entity\n",
        "# Query by partition and row keys\n",
        "\n",
        "task = table_client.get_entity('part2', '001')\n",
        "print(task['name'])\n",
        "print(task['room'])"
      ],
      "metadata": {
        "colab": {
          "base_uri": "https://localhost:8080/"
        },
        "id": "TjIeSsfOT-vQ",
        "outputId": "2784b662-c51f-4200-97d4-2f9cf83a4d56"
      },
      "execution_count": 13,
      "outputs": [
        {
          "output_type": "stream",
          "name": "stdout",
          "text": [
            "python\n",
            "Online\n"
          ]
        }
      ]
    },
    {
      "cell_type": "code",
      "source": [
        "# Query by partition and row keys\n",
        "tasks = table_client.query_entities(query_filter=\"PartitionKey eq 'part2'\")\n",
        "\n",
        "print(task['name'])\n",
        "print(task['room'])"
      ],
      "metadata": {
        "colab": {
          "base_uri": "https://localhost:8080/"
        },
        "id": "ks-aIaFIPJt7",
        "outputId": "29e1c80f-d7c6-4a62-9355-1a782840a2ea"
      },
      "execution_count": 12,
      "outputs": [
        {
          "output_type": "stream",
          "name": "stdout",
          "text": [
            "python\n",
            "Online\n"
          ]
        }
      ]
    },
    {
      "cell_type": "markdown",
      "source": [
        "## query by logic "
      ],
      "metadata": {
        "id": "7IIRM7XoWi8M"
      }
    },
    {
      "cell_type": "code",
      "source": [
        "tasks = table_client.query_entities(query_filter=\"age gt 2\")\n",
        "for t in tasks:\n",
        "    print(t)"
      ],
      "metadata": {
        "colab": {
          "base_uri": "https://localhost:8080/"
        },
        "id": "-fcOjEglUbWB",
        "outputId": "c0170639-f144-4e36-8d8b-bb97d02910d2"
      },
      "execution_count": 20,
      "outputs": [
        {
          "output_type": "stream",
          "name": "stdout",
          "text": [
            "{'PartitionKey': 'part2', 'RowKey': '001', 'age': 3, 'name': 'python', 'room': 'Online'}\n",
            "{'PartitionKey': 'part3', 'RowKey': '002', 'name': 'C++', 'room': 'Onsite', 'age': 5}\n",
            "{'PartitionKey': 'partQ', 'RowKey': '0013', 'name': 'python', 'room': 'Online', 'age': 3}\n",
            "{'PartitionKey': 'partQ', 'RowKey': '0014', 'name': 'python', 'room': 'Online', 'age': 4}\n",
            "{'PartitionKey': 'partQ', 'RowKey': '0015', 'name': 'python', 'room': 'Online', 'age': 5}\n",
            "{'PartitionKey': 'partQ', 'RowKey': '0016', 'name': 'python', 'room': 'Online', 'age': 6}\n",
            "{'PartitionKey': 'partQ', 'RowKey': '0017', 'name': 'python', 'room': 'Online', 'age': 7}\n",
            "{'PartitionKey': 'partQ', 'RowKey': '0018', 'name': 'python', 'room': 'Online', 'age': 8}\n",
            "{'PartitionKey': 'partQ', 'RowKey': '0019', 'name': 'python', 'room': 'Online', 'age': 9}\n",
            "{'PartitionKey': 'tasksSeattle', 'RowKey': '001', 'name': 'python', 'room': 'Online', 'age': 3}\n",
            "{'PartitionKey': 'tasksSeattle', 'RowKey': '002', 'name': 'stat', 'age': 30}\n"
          ]
        }
      ]
    },
    {
      "cell_type": "markdown",
      "source": [
        "# Cloud AI\n",
        "https://docs.microsoft.com/en-us/python/api/overview/azure/cognitiveservices-vision-computervision-readme?view=azure-python"
      ],
      "metadata": {
        "id": "pJSViT6fcGQG"
      }
    },
    {
      "cell_type": "code",
      "source": [
        "!pip install azure-cognitiveservices-vision-computervision"
      ],
      "metadata": {
        "colab": {
          "base_uri": "https://localhost:8080/"
        },
        "id": "hTzivCCJWLQk",
        "outputId": "ce1857a4-2e65-49f9-d878-4b59da161017"
      },
      "execution_count": 1,
      "outputs": [
        {
          "output_type": "stream",
          "name": "stdout",
          "text": [
            "Requirement already satisfied: azure-cognitiveservices-vision-computervision in /usr/local/lib/python3.7/dist-packages (0.9.0)\n",
            "Requirement already satisfied: msrest>=0.5.0 in /usr/local/lib/python3.7/dist-packages (from azure-cognitiveservices-vision-computervision) (0.6.21)\n",
            "Requirement already satisfied: azure-common~=1.1 in /usr/local/lib/python3.7/dist-packages (from azure-cognitiveservices-vision-computervision) (1.1.28)\n",
            "Requirement already satisfied: requests~=2.16 in /usr/local/lib/python3.7/dist-packages (from msrest>=0.5.0->azure-cognitiveservices-vision-computervision) (2.23.0)\n",
            "Requirement already satisfied: requests-oauthlib>=0.5.0 in /usr/local/lib/python3.7/dist-packages (from msrest>=0.5.0->azure-cognitiveservices-vision-computervision) (1.3.1)\n",
            "Requirement already satisfied: certifi>=2017.4.17 in /usr/local/lib/python3.7/dist-packages (from msrest>=0.5.0->azure-cognitiveservices-vision-computervision) (2021.10.8)\n",
            "Requirement already satisfied: isodate>=0.6.0 in /usr/local/lib/python3.7/dist-packages (from msrest>=0.5.0->azure-cognitiveservices-vision-computervision) (0.6.1)\n",
            "Requirement already satisfied: six in /usr/local/lib/python3.7/dist-packages (from isodate>=0.6.0->msrest>=0.5.0->azure-cognitiveservices-vision-computervision) (1.15.0)\n",
            "Requirement already satisfied: chardet<4,>=3.0.2 in /usr/local/lib/python3.7/dist-packages (from requests~=2.16->msrest>=0.5.0->azure-cognitiveservices-vision-computervision) (3.0.4)\n",
            "Requirement already satisfied: idna<3,>=2.5 in /usr/local/lib/python3.7/dist-packages (from requests~=2.16->msrest>=0.5.0->azure-cognitiveservices-vision-computervision) (2.10)\n",
            "Requirement already satisfied: urllib3!=1.25.0,!=1.25.1,<1.26,>=1.21.1 in /usr/local/lib/python3.7/dist-packages (from requests~=2.16->msrest>=0.5.0->azure-cognitiveservices-vision-computervision) (1.24.3)\n",
            "Requirement already satisfied: oauthlib>=3.0.0 in /usr/local/lib/python3.7/dist-packages (from requests-oauthlib>=0.5.0->msrest>=0.5.0->azure-cognitiveservices-vision-computervision) (3.2.0)\n"
          ]
        }
      ]
    },
    {
      "cell_type": "code",
      "source": [
        "#Create client\n",
        "\n",
        "from azure.cognitiveservices.vision.computervision import ComputerVisionClient\n",
        "from azure.cognitiveservices.vision.computervision.models import VisualFeatureTypes\n",
        "from msrest.authentication import CognitiveServicesCredentials\n",
        "\n",
        "# import os\n",
        "# region = os.environ['southeastasia'] # ACCOUNT_REGION\n",
        "# key = os.environ['be201be7b3fb491bab5fd2b63857afca'] # ACCOUNT_KEY\n",
        "\n",
        "credentials = CognitiveServicesCredentials('be201be7b3fb491bab5fd2b63857afca')\n",
        "client = ComputerVisionClient(\n",
        "    endpoint=\"https://testkiekku.cognitiveservices.azure.com/\",\n",
        "    credentials=credentials\n",
        ")"
      ],
      "metadata": {
        "id": "AlWpxkGBcLmH"
      },
      "execution_count": 4,
      "outputs": []
    },
    {
      "cell_type": "code",
      "source": [
        "url = \"https://aiprototype2.blob.core.windows.net/pics/E_kUwryUYAIsLJV.jpg\"\n",
        "\n",
        "image_analysis = client.analyze_image(url,visual_features=[VisualFeatureTypes.faces, VisualFeatureTypes.description])\n",
        "\n",
        "for tag in image_analysis.faces:\n",
        "    print(tag)"
      ],
      "metadata": {
        "colab": {
          "base_uri": "https://localhost:8080/"
        },
        "id": "al6PoO78cs4m",
        "outputId": "f2639640-1a55-4294-b46b-bdedaee90fac"
      },
      "execution_count": 48,
      "outputs": [
        {
          "output_type": "stream",
          "name": "stdout",
          "text": [
            "{'additional_properties': {}, 'age': 21, 'gender': <Gender.female: 'Female'>, 'face_rectangle': <azure.cognitiveservices.vision.computervision.models._models_py3.FaceRectangle object at 0x7eff6caaced0>}\n"
          ]
        }
      ]
    },
    {
      "cell_type": "code",
      "source": [
        "for each_cap in image_analysis.description.captions: # เพิ่ม VisualFeatureTypes.description\n",
        "    print(each_cap)"
      ],
      "metadata": {
        "colab": {
          "base_uri": "https://localhost:8080/"
        },
        "id": "hMCt-QMMpODn",
        "outputId": "80111d24-311b-42aa-9462-2d4022959e08"
      },
      "execution_count": 49,
      "outputs": [
        {
          "output_type": "stream",
          "name": "stdout",
          "text": [
            "{'additional_properties': {}, 'text': 'a woman wearing a grey hoodie and a grey sweater', 'confidence': 0.35580360889434814}\n"
          ]
        }
      ]
    },
    {
      "cell_type": "code",
      "source": [
        "print(tag.face_rectangle.width, tag.face_rectangle.height, tag.face_rectangle.left, tag.face_rectangle.top)"
      ],
      "metadata": {
        "colab": {
          "base_uri": "https://localhost:8080/"
        },
        "id": "Dq_ayMS-fUOB",
        "outputId": "1eb659fe-11ee-42d6-c315-7c67fbbbb5c5"
      },
      "execution_count": 18,
      "outputs": [
        {
          "output_type": "stream",
          "name": "stdout",
          "text": [
            "349 349 316 447\n"
          ]
        }
      ]
    },
    {
      "cell_type": "code",
      "source": [
        "import cv2 \n",
        "# import matplotlib  as plt\n",
        "import matplotlib.pyplot as plt"
      ],
      "metadata": {
        "id": "BEzdkeW1hT9Q"
      },
      "execution_count": 30,
      "outputs": []
    },
    {
      "cell_type": "code",
      "source": [
        "cv2.rectangle(image, (x1, y1), (x2, y2), (255,0,0), 2)"
      ],
      "metadata": {
        "id": "FHazG3Qihyda"
      },
      "execution_count": null,
      "outputs": []
    },
    {
      "cell_type": "code",
      "source": [
        "x1 =tag.face_rectangle.left\n",
        "y1 = tag.face_rectangle.top\n",
        "x2 = tag.face_rectangle.left+ tag.face_rectangle.width\n",
        "y2 =  tag.face_rectangle.top + tag.face_rectangle.height"
      ],
      "metadata": {
        "id": "u2Ekk20Ch3Ro"
      },
      "execution_count": 38,
      "outputs": []
    },
    {
      "cell_type": "code",
      "source": [
        "path = '/content/E_kUwryUYAIsLJV.jpg'\n",
        "image = cv2.imread(path)\n",
        "# image =cv2.rectangle(image, (x1, y1), (x2, y2), (255,0,0), 2)\n",
        "image = cv2.rectangle(image, (x1, y1), (x2, y2), (255,0,0), 5)\n",
        "print('age:', tag.age)\n",
        "print(tag.gender)\n",
        "plt.imshow(cv2.cvtColor(image, cv2.COLOR_BGR2RGB)) \n"
      ],
      "metadata": {
        "colab": {
          "base_uri": "https://localhost:8080/",
          "height": 321
        },
        "id": "5jNZJCqHhTba",
        "outputId": "4e38e3b5-dd5b-46d0-c078-e2bf70cedcea"
      },
      "execution_count": 43,
      "outputs": [
        {
          "output_type": "stream",
          "name": "stdout",
          "text": [
            "age: 21\n",
            "Gender.female\n"
          ]
        },
        {
          "output_type": "execute_result",
          "data": {
            "text/plain": [
              "<matplotlib.image.AxesImage at 0x7eff5f6ce710>"
            ]
          },
          "metadata": {},
          "execution_count": 43
        },
        {
          "output_type": "display_data",
          "data": {
            "image/png": "[encoded data removed]",
            "text/plain": [
              "<Figure size 432x288 with 1 Axes>"
            ]
          },
          "metadata": {
            "needs_background": "light"
          }
        }
      ]
    },
    {
      "cell_type": "code",
      "source": [
        "for each_cap in image_analysis.description.captions:\n",
        "    print(each_cap)"
      ],
      "metadata": {
        "colab": {
          "base_uri": "https://localhost:8080/",
          "height": 184
        },
        "id": "zAztSDzUn40S",
        "outputId": "b65a1d7a-31d8-4a52-c2a6-c04019865758"
      },
      "execution_count": 45,
      "outputs": [
        {
          "output_type": "error",
          "ename": "AttributeError",
          "evalue": "ignored",
          "traceback": [
            "\u001b[0;31m---------------------------------------------------------------------------\u001b[0m",
            "\u001b[0;31mAttributeError\u001b[0m                            Traceback (most recent call last)",
            "\u001b[0;32m<ipython-input-45-6b5938039c62>\u001b[0m in \u001b[0;36m<module>\u001b[0;34m()\u001b[0m\n\u001b[0;32m----> 1\u001b[0;31m \u001b[0;32mfor\u001b[0m \u001b[0meach_cap\u001b[0m \u001b[0;32min\u001b[0m \u001b[0mimage_analysis\u001b[0m\u001b[0;34m.\u001b[0m\u001b[0mdescription\u001b[0m\u001b[0;34m.\u001b[0m\u001b[0mcaptions\u001b[0m\u001b[0;34m:\u001b[0m\u001b[0;34m\u001b[0m\u001b[0;34m\u001b[0m\u001b[0m\n\u001b[0m\u001b[1;32m      2\u001b[0m     \u001b[0mprint\u001b[0m\u001b[0;34m(\u001b[0m\u001b[0meach_cap\u001b[0m\u001b[0;34m)\u001b[0m\u001b[0;34m\u001b[0m\u001b[0;34m\u001b[0m\u001b[0m\n",
            "\u001b[0;31mAttributeError\u001b[0m: 'NoneType' object has no attribute 'captions'"
          ]
        }
      ]
    },
    {
      "cell_type": "code",
      "source": [
        "import cv2 \n",
        "   \n",
        "# path \n",
        "path = '/content/E_kUwryUYAIsLJV.jpg'\n",
        "   \n",
        "# Reading an image in default mode\n",
        "image = cv2.imread(path)\n",
        "   \n",
        "# Window name in which image is displayed\n",
        "window_name = 'Image'\n",
        "\n",
        "start_point = (5, 5)\n",
        "  \n",
        "# Ending coordinate, here (220, 220)\n",
        "# represents the bottom right corner of rectangle\n",
        "end_point = (220, 220)\n",
        "  \n",
        "# Blue color in BGR\n",
        "color = (255, 0, 0)\n",
        "  \n",
        "# Line thickness of 2 px\n",
        "thickness = 2\n",
        "  \n",
        "# Using cv2.rectangle() method\n",
        "# Draw a rectangle with blue line borders of thickness of 2 px\n",
        "image = cv2.rectangle(image, start_point, end_point, color, thickness)\n",
        "  \n",
        "# Displaying the image \n",
        "cv2.imshow(window_name, image) "
      ],
      "metadata": {
        "colab": {
          "base_uri": "https://localhost:8080/",
          "height": 374
        },
        "id": "KK9SPG8lf3EH",
        "outputId": "2e848733-1f0e-457b-a53a-73138db9a6eb"
      },
      "execution_count": 20,
      "outputs": [
        {
          "output_type": "error",
          "ename": "DisabledFunctionError",
          "evalue": "ignored",
          "traceback": [
            "\u001b[0;31m---------------------------------------------------------------------------\u001b[0m",
            "\u001b[0;31mDisabledFunctionError\u001b[0m                     Traceback (most recent call last)",
            "\u001b[0;32m<ipython-input-20-422abf6c10a1>\u001b[0m in \u001b[0;36m<module>\u001b[0;34m()\u001b[0m\n\u001b[1;32m     27\u001b[0m \u001b[0;34m\u001b[0m\u001b[0m\n\u001b[1;32m     28\u001b[0m \u001b[0;31m# Displaying the image\u001b[0m\u001b[0;34m\u001b[0m\u001b[0;34m\u001b[0m\u001b[0;34m\u001b[0m\u001b[0m\n\u001b[0;32m---> 29\u001b[0;31m \u001b[0mcv2\u001b[0m\u001b[0;34m.\u001b[0m\u001b[0mimshow\u001b[0m\u001b[0;34m(\u001b[0m\u001b[0mwindow_name\u001b[0m\u001b[0;34m,\u001b[0m \u001b[0mimage\u001b[0m\u001b[0;34m)\u001b[0m\u001b[0;34m\u001b[0m\u001b[0;34m\u001b[0m\u001b[0m\n\u001b[0m",
            "\u001b[0;32m/usr/local/lib/python3.7/dist-packages/google/colab/_import_hooks/_cv2.py\u001b[0m in \u001b[0;36mwrapped\u001b[0;34m(*args, **kwargs)\u001b[0m\n\u001b[1;32m     50\u001b[0m   \u001b[0;32mdef\u001b[0m \u001b[0mwrapped\u001b[0m\u001b[0;34m(\u001b[0m\u001b[0;34m*\u001b[0m\u001b[0margs\u001b[0m\u001b[0;34m,\u001b[0m \u001b[0;34m**\u001b[0m\u001b[0mkwargs\u001b[0m\u001b[0;34m)\u001b[0m\u001b[0;34m:\u001b[0m\u001b[0;34m\u001b[0m\u001b[0;34m\u001b[0m\u001b[0m\n\u001b[1;32m     51\u001b[0m     \u001b[0;32mif\u001b[0m \u001b[0;32mnot\u001b[0m \u001b[0mos\u001b[0m\u001b[0;34m.\u001b[0m\u001b[0menviron\u001b[0m\u001b[0;34m.\u001b[0m\u001b[0mget\u001b[0m\u001b[0;34m(\u001b[0m\u001b[0menv_var\u001b[0m\u001b[0;34m,\u001b[0m \u001b[0;32mFalse\u001b[0m\u001b[0;34m)\u001b[0m\u001b[0;34m:\u001b[0m\u001b[0;34m\u001b[0m\u001b[0;34m\u001b[0m\u001b[0m\n\u001b[0;32m---> 52\u001b[0;31m       \u001b[0;32mraise\u001b[0m \u001b[0mDisabledFunctionError\u001b[0m\u001b[0;34m(\u001b[0m\u001b[0mmessage\u001b[0m\u001b[0;34m,\u001b[0m \u001b[0mname\u001b[0m \u001b[0;32mor\u001b[0m \u001b[0mfunc\u001b[0m\u001b[0;34m.\u001b[0m\u001b[0m__name__\u001b[0m\u001b[0;34m)\u001b[0m\u001b[0;34m\u001b[0m\u001b[0;34m\u001b[0m\u001b[0m\n\u001b[0m\u001b[1;32m     53\u001b[0m     \u001b[0;32mreturn\u001b[0m \u001b[0mfunc\u001b[0m\u001b[0;34m(\u001b[0m\u001b[0;34m*\u001b[0m\u001b[0margs\u001b[0m\u001b[0;34m,\u001b[0m \u001b[0;34m**\u001b[0m\u001b[0mkwargs\u001b[0m\u001b[0;34m)\u001b[0m\u001b[0;34m\u001b[0m\u001b[0;34m\u001b[0m\u001b[0m\n\u001b[1;32m     54\u001b[0m \u001b[0;34m\u001b[0m\u001b[0m\n",
            "\u001b[0;31mDisabledFunctionError\u001b[0m: cv2.imshow() is disabled in Colab, because it causes Jupyter sessions\nto crash; see https://github.com/jupyter/notebook/issues/3935.\nAs a substitution, consider using\n  from google.colab.patches import cv2_imshow\n"
          ],
          "errorDetails": {
            "actions": [
              {
                "action": "open_snippet",
                "actionText": "Search Snippets for cv2.imshow",
                "snippetFilter": "cv2.imshow"
              }
            ]
          }
        }
      ]
    },
    {
      "cell_type": "code",
      "source": [
        ""
      ],
      "metadata": {
        "id": "vwjIqn4GhD9t"
      },
      "execution_count": null,
      "outputs": []
    }
  ]
}